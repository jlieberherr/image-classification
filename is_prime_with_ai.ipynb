{
 "cells": [
  {
   "cell_type": "code",
   "execution_count": 1,
   "id": "a700af45-a244-455c-95a3-e45445c9c9c6",
   "metadata": {},
   "outputs": [
    {
     "name": "stdout",
     "output_type": "stream",
     "text": [
      "2.7.0\n"
     ]
    }
   ],
   "source": [
    "# TensorFlow and tf.keras\n",
    "import tensorflow as tf\n",
    "\n",
    "# Helper libraries\n",
    "import numpy as np\n",
    "import matplotlib.pyplot as plt\n",
    "import sympy\n",
    "\n",
    "print(tf.__version__)"
   ]
  },
  {
   "cell_type": "code",
   "execution_count": 41,
   "id": "29f4654f-d723-42ae-a3f8-632385d97c66",
   "metadata": {},
   "outputs": [],
   "source": [
    "magnitude = 10\n",
    "nb_train_numbers = 6000000\n",
    "nb_test_numbers = 1000000"
   ]
  },
  {
   "cell_type": "code",
   "execution_count": 42,
   "id": "fc51f546-f500-4a22-8011-e1ec57ee33ca",
   "metadata": {},
   "outputs": [
    {
     "name": "stdout",
     "output_type": "stream",
     "text": [
      "Wall time: 122 ms\n"
     ]
    }
   ],
   "source": [
    "%%time\n",
    "train_numbers = np.random.randint(10**magnitude, size=nb_train_numbers, dtype=np.int64)"
   ]
  },
  {
   "cell_type": "code",
   "execution_count": 43,
   "id": "72bb2cb0-82d7-4b4b-96fe-84efc873ad62",
   "metadata": {},
   "outputs": [
    {
     "name": "stdout",
     "output_type": "stream",
     "text": [
      "Wall time: 24.8 ms\n"
     ]
    }
   ],
   "source": [
    "%%time\n",
    "test_numbers = np.random.randint(10**magnitude, size=nb_test_numbers, dtype=np.int64)"
   ]
  },
  {
   "cell_type": "code",
   "execution_count": 44,
   "id": "a4562d12-8c13-410e-b52a-8a229cf39b8c",
   "metadata": {},
   "outputs": [
    {
     "name": "stdout",
     "output_type": "stream",
     "text": [
      "Wall time: 19.7 s\n"
     ]
    }
   ],
   "source": [
    "%%time\n",
    "train_number_labels = np.array([sympy.isprime(x) for x in train_numbers])"
   ]
  },
  {
   "cell_type": "code",
   "execution_count": 45,
   "id": "1ae267a9-c8ec-428a-8137-f368b69c72f8",
   "metadata": {},
   "outputs": [
    {
     "name": "stdout",
     "output_type": "stream",
     "text": [
      "Wall time: 3.31 s\n"
     ]
    }
   ],
   "source": [
    "%%time\n",
    "test_numbers_levels = np.array([sympy.isprime(x) for x in test_numbers])"
   ]
  },
  {
   "cell_type": "code",
   "execution_count": 46,
   "id": "763d7bb8-e4bd-4192-b7b4-e915a2ccbcff",
   "metadata": {},
   "outputs": [],
   "source": [
    "def transform_number_to_array(number):\n",
    "    ar = np.zeros((magnitude, 10))\n",
    "    nb_str = str(number)\n",
    "    n = len(nb_str)\n",
    "    for pos in reversed(range(len(nb_str))):\n",
    "        digit = int(nb_str[pos])\n",
    "        ar[pos, digit] = 1\n",
    "    return ar"
   ]
  },
  {
   "cell_type": "code",
   "execution_count": 47,
   "id": "63e44ea3-09dc-40c8-b2a4-394a2dfd775c",
   "metadata": {},
   "outputs": [
    {
     "data": {
      "text/plain": [
       "array([[0., 1., 0., 0., 0., 0., 0., 0., 0., 0.],\n",
       "       [1., 0., 0., 0., 0., 0., 0., 0., 0., 0.],\n",
       "       [0., 0., 0., 0., 0., 1., 0., 0., 0., 0.],\n",
       "       [1., 0., 0., 0., 0., 0., 0., 0., 0., 0.],\n",
       "       [0., 0., 0., 0., 0., 0., 0., 0., 0., 0.],\n",
       "       [0., 0., 0., 0., 0., 0., 0., 0., 0., 0.],\n",
       "       [0., 0., 0., 0., 0., 0., 0., 0., 0., 0.],\n",
       "       [0., 0., 0., 0., 0., 0., 0., 0., 0., 0.],\n",
       "       [0., 0., 0., 0., 0., 0., 0., 0., 0., 0.],\n",
       "       [0., 0., 0., 0., 0., 0., 0., 0., 0., 0.]])"
      ]
     },
     "execution_count": 47,
     "metadata": {},
     "output_type": "execute_result"
    }
   ],
   "source": [
    "transform_number_to_array(1050)"
   ]
  },
  {
   "cell_type": "code",
   "execution_count": 48,
   "id": "ba5275c1-51e2-4bd6-81e5-7cdb65a87e3d",
   "metadata": {},
   "outputs": [],
   "source": [
    "train_numbers_ar = np.array([transform_number_to_array(x) for x in train_numbers])"
   ]
  },
  {
   "cell_type": "code",
   "execution_count": 49,
   "id": "f4fbaa67-2111-4748-9503-c69a269c0321",
   "metadata": {},
   "outputs": [
    {
     "data": {
      "text/plain": [
       "(6000000, 10, 10)"
      ]
     },
     "execution_count": 49,
     "metadata": {},
     "output_type": "execute_result"
    }
   ],
   "source": [
    "train_numbers_ar.shape"
   ]
  },
  {
   "cell_type": "code",
   "execution_count": 50,
   "id": "be21d9c8-e313-4237-a5fa-c58b6eddd3a9",
   "metadata": {},
   "outputs": [],
   "source": [
    "test_numbers_ar = np.array([transform_number_to_array(x) for x in test_numbers])"
   ]
  },
  {
   "cell_type": "code",
   "execution_count": 51,
   "id": "9dba8642-2176-4bf0-a2f2-95530e36be9e",
   "metadata": {},
   "outputs": [
    {
     "data": {
      "text/plain": [
       "(1000000, 10, 10)"
      ]
     },
     "execution_count": 51,
     "metadata": {},
     "output_type": "execute_result"
    }
   ],
   "source": [
    "test_numbers_ar.shape"
   ]
  },
  {
   "cell_type": "code",
   "execution_count": 52,
   "id": "0a5cb8db-0de0-4950-8a04-e0e739062b61",
   "metadata": {},
   "outputs": [],
   "source": [
    "model = tf.keras.Sequential([\n",
    "    tf.keras.layers.Flatten(input_shape=(magnitude, 10)),\n",
    "    tf.keras.layers.Dense(128, activation='relu'),\n",
    "    tf.keras.layers.Dense(2)\n",
    "])"
   ]
  },
  {
   "cell_type": "code",
   "execution_count": 53,
   "id": "e78f9b0a-8ca1-42e8-a10e-9627024fd5c7",
   "metadata": {},
   "outputs": [],
   "source": [
    "model.compile(optimizer='adam',\n",
    "              loss=tf.keras.losses.SparseCategoricalCrossentropy(from_logits=True),\n",
    "              metrics=['accuracy'])"
   ]
  },
  {
   "cell_type": "code",
   "execution_count": 54,
   "id": "b79ce40a-8f35-4b47-ab50-7d9d789cc798",
   "metadata": {},
   "outputs": [
    {
     "name": "stdout",
     "output_type": "stream",
     "text": [
      "Epoch 1/10\n",
      "187500/187500 [==============================] - 220s 1ms/step - loss: 0.1429 - accuracy: 0.9545\n",
      "Epoch 2/10\n",
      "187500/187500 [==============================] - 221s 1ms/step - loss: 0.1421 - accuracy: 0.9545\n",
      "Epoch 3/10\n",
      "187500/187500 [==============================] - 220s 1ms/step - loss: 0.1421 - accuracy: 0.9545\n",
      "Epoch 4/10\n",
      "187500/187500 [==============================] - 219s 1ms/step - loss: 0.1421 - accuracy: 0.9545\n",
      "Epoch 5/10\n",
      "187500/187500 [==============================] - 211s 1ms/step - loss: 0.1421 - accuracy: 0.9545\n",
      "Epoch 6/10\n",
      "187500/187500 [==============================] - 212s 1ms/step - loss: 0.1421 - accuracy: 0.95450s - loss: 0.1421 - \n",
      "Epoch 7/10\n",
      "187500/187500 [==============================] - 212s 1ms/step - loss: 0.1421 - accuracy: 0.9545\n",
      "Epoch 8/10\n",
      "187500/187500 [==============================] - 211s 1ms/step - loss: 0.1421 - accuracy: 0.9545\n",
      "Epoch 9/10\n",
      "187500/187500 [==============================] - 212s 1ms/step - loss: 0.1420 - accuracy: 0.9545\n",
      "Epoch 10/10\n",
      "187500/187500 [==============================] - 212s 1ms/step - loss: 0.1421 - accuracy: 0.9545\n"
     ]
    },
    {
     "data": {
      "text/plain": [
       "<keras.callbacks.History at 0x15500fd9f48>"
      ]
     },
     "execution_count": 54,
     "metadata": {},
     "output_type": "execute_result"
    }
   ],
   "source": [
    "model.fit(train_numbers_ar, train_number_labels, epochs=10)"
   ]
  },
  {
   "cell_type": "code",
   "execution_count": 55,
   "id": "ada1e1df-f6f1-41be-95a6-53bc9c04e722",
   "metadata": {},
   "outputs": [
    {
     "name": "stdout",
     "output_type": "stream",
     "text": [
      "31250/31250 - 23s - loss: 0.1413 - accuracy: 0.9548 - 23s/epoch - 732us/step\n"
     ]
    }
   ],
   "source": [
    "test_loss, test_acc = model.evaluate(test_numbers_ar,  test_numbers_levels, verbose=2)"
   ]
  },
  {
   "cell_type": "code",
   "execution_count": 56,
   "id": "f50b4e7b-9e0f-4179-b494-311155a47478",
   "metadata": {},
   "outputs": [],
   "source": [
    "probability_model = tf.keras.Sequential([model, tf.keras.layers.Softmax()])"
   ]
  },
  {
   "cell_type": "code",
   "execution_count": 57,
   "id": "ea13c77a-0928-4236-b1f0-7329266cbb57",
   "metadata": {},
   "outputs": [],
   "source": [
    "predictions = probability_model.predict(test_numbers_ar)"
   ]
  },
  {
   "cell_type": "code",
   "execution_count": 58,
   "id": "3c87bd67-0109-4094-af06-eb0eb5f324a6",
   "metadata": {},
   "outputs": [
    {
     "name": "stdout",
     "output_type": "stream",
     "text": [
      "False, 8708007948, 0%\n",
      "False, 2273592062, 0%\n",
      "False, 1042328794, 0%\n",
      "False, 5984651675, 0%\n",
      "False, 4942269578, 0%\n",
      "True, 9236999867, 12%\n",
      "False, 5623265271, 12%\n",
      "False, 3743337360, 0%\n",
      "False, 5555861211, 12%\n",
      "False, 3058516765, 0%\n"
     ]
    }
   ],
   "source": [
    "for i in range(10):\n",
    "    nb = test_numbers[i]\n",
    "    prob = predictions[i]\n",
    "    print(\"{}, {}, {:.0%}\".format(sympy.isprime(nb), nb, prob[1]))\n",
    "    "
   ]
  },
  {
   "cell_type": "code",
   "execution_count": 59,
   "id": "91c51374-f186-4784-a3e6-5b3b9b6a248f",
   "metadata": {},
   "outputs": [
    {
     "name": "stdout",
     "output_type": "stream",
     "text": [
      "1000000\n",
      "45198\n",
      "0\n"
     ]
    }
   ],
   "source": [
    "nb_tot = 0\n",
    "nb_primes = 0\n",
    "nb_corrects = 0\n",
    "for i, p in enumerate(predictions):\n",
    "    nb_tot += 1\n",
    "    if sympy.isprime(test_numbers[i]) == 1:\n",
    "        nb_primes += 1\n",
    "        if p[1] > 0.5:\n",
    "            nb_corrects += 1\n",
    "print(nb_tot)\n",
    "print(nb_primes)\n",
    "print(nb_corrects)"
   ]
  },
  {
   "cell_type": "code",
   "execution_count": null,
   "id": "f94a4059-45f8-4b14-9cb9-5ac7373fa9d8",
   "metadata": {},
   "outputs": [],
   "source": []
  }
 ],
 "metadata": {
  "kernelspec": {
   "display_name": "Python 3 (ipykernel)",
   "language": "python",
   "name": "python3"
  },
  "language_info": {
   "codemirror_mode": {
    "name": "ipython",
    "version": 3
   },
   "file_extension": ".py",
   "mimetype": "text/x-python",
   "name": "python",
   "nbconvert_exporter": "python",
   "pygments_lexer": "ipython3",
   "version": "3.7.6"
  }
 },
 "nbformat": 4,
 "nbformat_minor": 5
}
